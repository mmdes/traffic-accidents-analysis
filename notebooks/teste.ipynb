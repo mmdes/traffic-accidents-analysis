{
 "cells": [
  {
   "cell_type": "code",
   "execution_count": 5,
   "metadata": {},
   "outputs": [],
   "source": [
    "import pandas as pd\n",
    "import numpy as np\n",
    "import matplotlib.pyplot as plt\n",
    "import seaborn as sns"
   ]
  },
  {
   "cell_type": "code",
   "execution_count": 6,
   "metadata": {},
   "outputs": [],
   "source": [
    "base_path = '../data/processed/' \n",
    "\n",
    "dados = pd.read_csv(base_path + 'data.csv')"
   ]
  },
  {
   "cell_type": "code",
   "execution_count": 7,
   "metadata": {},
   "outputs": [
    {
     "data": {
      "text/html": [
       "<div>\n",
       "<style scoped>\n",
       "    .dataframe tbody tr th:only-of-type {\n",
       "        vertical-align: middle;\n",
       "    }\n",
       "\n",
       "    .dataframe tbody tr th {\n",
       "        vertical-align: top;\n",
       "    }\n",
       "\n",
       "    .dataframe thead th {\n",
       "        text-align: right;\n",
       "    }\n",
       "</style>\n",
       "<table border=\"1\" class=\"dataframe\">\n",
       "  <thead>\n",
       "    <tr style=\"text-align: right;\">\n",
       "      <th></th>\n",
       "      <th>id</th>\n",
       "      <th>dia_semana</th>\n",
       "      <th>uf</th>\n",
       "      <th>br</th>\n",
       "      <th>km</th>\n",
       "      <th>municipio</th>\n",
       "      <th>causa_acidente</th>\n",
       "      <th>tipo_acidente</th>\n",
       "      <th>classificacao_acidente</th>\n",
       "      <th>fase_dia</th>\n",
       "      <th>...</th>\n",
       "      <th>ignorados</th>\n",
       "      <th>feridos</th>\n",
       "      <th>veiculos</th>\n",
       "      <th>latitude</th>\n",
       "      <th>longitude</th>\n",
       "      <th>regional</th>\n",
       "      <th>delegacia</th>\n",
       "      <th>uop</th>\n",
       "      <th>periodo</th>\n",
       "      <th>datetime</th>\n",
       "    </tr>\n",
       "  </thead>\n",
       "  <tbody>\n",
       "    <tr>\n",
       "      <th>0</th>\n",
       "      <td>331730.0</td>\n",
       "      <td>sexta-feira</td>\n",
       "      <td>SP</td>\n",
       "      <td>116</td>\n",
       "      <td>453.0</td>\n",
       "      <td>REGISTRO</td>\n",
       "      <td>Reação tardia ou ineficiente do condutor</td>\n",
       "      <td>Tombamento</td>\n",
       "      <td>Com Vítimas Feridas</td>\n",
       "      <td>Amanhecer</td>\n",
       "      <td>...</td>\n",
       "      <td>0</td>\n",
       "      <td>1</td>\n",
       "      <td>1</td>\n",
       "      <td>-24.561681</td>\n",
       "      <td>-47.867522</td>\n",
       "      <td>SPRF-SP</td>\n",
       "      <td>DEL05-SP</td>\n",
       "      <td>UOP01-DEL05-SP</td>\n",
       "      <td>madrugada</td>\n",
       "      <td>01-01-2021 05:30 AM</td>\n",
       "    </tr>\n",
       "    <tr>\n",
       "      <th>1</th>\n",
       "      <td>331804.0</td>\n",
       "      <td>sexta-feira</td>\n",
       "      <td>AM</td>\n",
       "      <td>174</td>\n",
       "      <td>937.0</td>\n",
       "      <td>MANAUS</td>\n",
       "      <td>Reação tardia ou ineficiente do condutor</td>\n",
       "      <td>Colisão traseira</td>\n",
       "      <td>Com Vítimas Feridas</td>\n",
       "      <td>Pleno dia</td>\n",
       "      <td>...</td>\n",
       "      <td>1</td>\n",
       "      <td>1</td>\n",
       "      <td>5</td>\n",
       "      <td>-2.508068</td>\n",
       "      <td>-60.036434</td>\n",
       "      <td>SPRF-AM</td>\n",
       "      <td>DEL01-AM</td>\n",
       "      <td>UOP01-DEL01-AM</td>\n",
       "      <td>manhã</td>\n",
       "      <td>01-01-2021 08:05 AM</td>\n",
       "    </tr>\n",
       "    <tr>\n",
       "      <th>2</th>\n",
       "      <td>331815.0</td>\n",
       "      <td>sexta-feira</td>\n",
       "      <td>CE</td>\n",
       "      <td>222</td>\n",
       "      <td>128.5</td>\n",
       "      <td>ITAPAJE</td>\n",
       "      <td>Velocidade Incompatível</td>\n",
       "      <td>Tombamento</td>\n",
       "      <td>Com Vítimas Feridas</td>\n",
       "      <td>Pleno dia</td>\n",
       "      <td>...</td>\n",
       "      <td>11</td>\n",
       "      <td>2</td>\n",
       "      <td>12</td>\n",
       "      <td>-3.707626</td>\n",
       "      <td>-39.623509</td>\n",
       "      <td>SPRF-CE</td>\n",
       "      <td>DEL04-CE</td>\n",
       "      <td>UOP03-DEL04-CE</td>\n",
       "      <td>manhã</td>\n",
       "      <td>01-01-2021 10:10 AM</td>\n",
       "    </tr>\n",
       "    <tr>\n",
       "      <th>3</th>\n",
       "      <td>331823.0</td>\n",
       "      <td>sexta-feira</td>\n",
       "      <td>RJ</td>\n",
       "      <td>493</td>\n",
       "      <td>18.0</td>\n",
       "      <td>MAGE</td>\n",
       "      <td>Ingestão de álcool e/ou substâncias psicoativa...</td>\n",
       "      <td>Colisão lateral</td>\n",
       "      <td>Com Vítimas Feridas</td>\n",
       "      <td>Pleno dia</td>\n",
       "      <td>...</td>\n",
       "      <td>1</td>\n",
       "      <td>1</td>\n",
       "      <td>3</td>\n",
       "      <td>-22.668712</td>\n",
       "      <td>-43.018627</td>\n",
       "      <td>SPRF-RJ</td>\n",
       "      <td>DEL04-RJ</td>\n",
       "      <td>UOP02-DEL04-RJ</td>\n",
       "      <td>tarde</td>\n",
       "      <td>01-01-2021 12:30 PM</td>\n",
       "    </tr>\n",
       "    <tr>\n",
       "      <th>4</th>\n",
       "      <td>331843.0</td>\n",
       "      <td>sexta-feira</td>\n",
       "      <td>RJ</td>\n",
       "      <td>393</td>\n",
       "      <td>252.0</td>\n",
       "      <td>BARRA DO PIRAI</td>\n",
       "      <td>Condutor Dormindo</td>\n",
       "      <td>Colisão frontal</td>\n",
       "      <td>Com Vítimas Feridas</td>\n",
       "      <td>Pleno dia</td>\n",
       "      <td>...</td>\n",
       "      <td>1</td>\n",
       "      <td>2</td>\n",
       "      <td>3</td>\n",
       "      <td>-22.434220</td>\n",
       "      <td>-43.775615</td>\n",
       "      <td>SPRF-RJ</td>\n",
       "      <td>DEL05-RJ</td>\n",
       "      <td>UOP04-DEL05-RJ</td>\n",
       "      <td>tarde</td>\n",
       "      <td>01-01-2021 02:40 PM</td>\n",
       "    </tr>\n",
       "  </tbody>\n",
       "</table>\n",
       "<p>5 rows × 30 columns</p>\n",
       "</div>"
      ],
      "text/plain": [
       "         id   dia_semana  uf   br     km       municipio  \\\n",
       "0  331730.0  sexta-feira  SP  116  453.0        REGISTRO   \n",
       "1  331804.0  sexta-feira  AM  174  937.0          MANAUS   \n",
       "2  331815.0  sexta-feira  CE  222  128.5         ITAPAJE   \n",
       "3  331823.0  sexta-feira  RJ  493   18.0            MAGE   \n",
       "4  331843.0  sexta-feira  RJ  393  252.0  BARRA DO PIRAI   \n",
       "\n",
       "                                      causa_acidente     tipo_acidente  \\\n",
       "0           Reação tardia ou ineficiente do condutor        Tombamento   \n",
       "1           Reação tardia ou ineficiente do condutor  Colisão traseira   \n",
       "2                            Velocidade Incompatível        Tombamento   \n",
       "3  Ingestão de álcool e/ou substâncias psicoativa...   Colisão lateral   \n",
       "4                                  Condutor Dormindo   Colisão frontal   \n",
       "\n",
       "  classificacao_acidente   fase_dia  ... ignorados feridos veiculos  \\\n",
       "0    Com Vítimas Feridas  Amanhecer  ...         0       1        1   \n",
       "1    Com Vítimas Feridas  Pleno dia  ...         1       1        5   \n",
       "2    Com Vítimas Feridas  Pleno dia  ...        11       2       12   \n",
       "3    Com Vítimas Feridas  Pleno dia  ...         1       1        3   \n",
       "4    Com Vítimas Feridas  Pleno dia  ...         1       2        3   \n",
       "\n",
       "    latitude  longitude  regional  delegacia             uop    periodo  \\\n",
       "0 -24.561681 -47.867522   SPRF-SP   DEL05-SP  UOP01-DEL05-SP  madrugada   \n",
       "1  -2.508068 -60.036434   SPRF-AM   DEL01-AM  UOP01-DEL01-AM      manhã   \n",
       "2  -3.707626 -39.623509   SPRF-CE   DEL04-CE  UOP03-DEL04-CE      manhã   \n",
       "3 -22.668712 -43.018627   SPRF-RJ   DEL04-RJ  UOP02-DEL04-RJ      tarde   \n",
       "4 -22.434220 -43.775615   SPRF-RJ   DEL05-RJ  UOP04-DEL05-RJ      tarde   \n",
       "\n",
       "              datetime  \n",
       "0  01-01-2021 05:30 AM  \n",
       "1  01-01-2021 08:05 AM  \n",
       "2  01-01-2021 10:10 AM  \n",
       "3  01-01-2021 12:30 PM  \n",
       "4  01-01-2021 02:40 PM  \n",
       "\n",
       "[5 rows x 30 columns]"
      ]
     },
     "execution_count": 7,
     "metadata": {},
     "output_type": "execute_result"
    }
   ],
   "source": [
    "dados.head()"
   ]
  },
  {
   "cell_type": "code",
   "execution_count": 8,
   "metadata": {},
   "outputs": [
    {
     "name": "stdout",
     "output_type": "stream",
     "text": [
      "As 5 maiores causas de acidentes:\n",
      "causa_acidente\n",
      "Reação tardia ou ineficiente do condutor                     33287\n",
      "Ausência de reação do condutor                               30392\n",
      "Acessar a via sem observar a presença dos outros veículos    22260\n",
      "Velocidade Incompatível                                      19051\n",
      "Condutor deixou de manter distância do veículo da frente     17057\n",
      "Name: count, dtype: int64\n"
     ]
    }
   ],
   "source": [
    "# Contar as ocorrências de cada causa\n",
    "top_5_causas = dados['causa_acidente'].value_counts().head(5)\n",
    "\n",
    "# Exibir as 5 maiores causas\n",
    "print(\"As 5 maiores causas de acidentes:\")\n",
    "print(top_5_causas)"
   ]
  },
  {
   "cell_type": "code",
   "execution_count": 10,
   "metadata": {},
   "outputs": [
    {
     "data": {
      "text/plain": [
       "Index(['id', 'dia_semana', 'uf', 'br', 'km', 'municipio', 'causa_acidente',\n",
       "       'tipo_acidente', 'classificacao_acidente', 'fase_dia', 'sentido_via',\n",
       "       'condicao_metereologica', 'tipo_pista', 'tracado_via', 'uso_solo',\n",
       "       'pessoas', 'mortos', 'feridos_leves', 'feridos_graves', 'ilesos',\n",
       "       'ignorados', 'feridos', 'veiculos', 'latitude', 'longitude', 'regional',\n",
       "       'delegacia', 'uop', 'periodo', 'datetime'],\n",
       "      dtype='object')"
      ]
     },
     "execution_count": 10,
     "metadata": {},
     "output_type": "execute_result"
    }
   ],
   "source": [
    "dados.columns"
   ]
  },
  {
   "cell_type": "code",
   "execution_count": 11,
   "metadata": {},
   "outputs": [
    {
     "data": {
      "text/plain": [
       "array(['Nublado', 'Céu Claro', 'Garoa/Chuvisco', 'Chuva', 'Ignorado',\n",
       "       'Sol', 'Nevoeiro/Neblina', 'Vento', 'Neve', 'Granizo'],\n",
       "      dtype=object)"
      ]
     },
     "execution_count": 11,
     "metadata": {},
     "output_type": "execute_result"
    }
   ],
   "source": [
    "dados['condicao_metereologica'].unique()"
   ]
  },
  {
   "cell_type": "code",
   "execution_count": null,
   "metadata": {},
   "outputs": [],
   "source": []
  }
 ],
 "metadata": {
  "kernelspec": {
   "display_name": "taa",
   "language": "python",
   "name": "python3"
  },
  "language_info": {
   "codemirror_mode": {
    "name": "ipython",
    "version": 3
   },
   "file_extension": ".py",
   "mimetype": "text/x-python",
   "name": "python",
   "nbconvert_exporter": "python",
   "pygments_lexer": "ipython3",
   "version": "3.12.4"
  }
 },
 "nbformat": 4,
 "nbformat_minor": 2
}
