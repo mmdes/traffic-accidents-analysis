{
 "cells": [
  {
   "cell_type": "code",
   "execution_count": 1,
   "metadata": {},
   "outputs": [],
   "source": [
    "import pandas as pd\n",
    "import numpy as np\n",
    "import matplotlib.pyplot as plt\n",
    "import seaborn as sns"
   ]
  },
  {
   "cell_type": "code",
   "execution_count": 2,
   "metadata": {},
   "outputs": [],
   "source": [
    "base_path = '../data/raw/' \n",
    "\n",
    "df1 = pd.read_csv(base_path + '2021.csv', encoding='latin-1', sep=';')\n",
    "df2 = pd.read_csv(base_path + '2022.csv', sep=',')\n",
    "df3 = pd.read_csv(base_path + '2023.csv', encoding='latin-1', sep=';')\n",
    "df4 = pd.read_csv(base_path + '2024.csv', sep=',')"
   ]
  },
  {
   "cell_type": "code",
   "execution_count": null,
   "metadata": {},
   "outputs": [
    {
     "name": "stdout",
     "output_type": "stream",
     "text": [
      "As colunas dos datasets são as mesmas.\n"
     ]
    }
   ],
   "source": [
    "colunas = [set(df1.columns), set(df2.columns), set(df3.columns), set(df4.columns)]\n",
    "\n",
    "differences_found = False\n",
    "\n",
    "for i in range(len(colunas)):\n",
    "    for k in range(len(colunas)):\n",
    "        if i != k:\n",
    "            diferencas = colunas[i] - colunas[k]\n",
    "            if diferencas:\n",
    "                differences_found = True\n",
    "                print(f\"As seguintes colunas estão no dataset {i + 1} e não estão no dataset {k + 1}: {diferencas}\")\n",
    "\n",
    "if not differences_found:\n",
    "    print(\"As colunas dos datasets são as mesmas.\")"
   ]
  },
  {
   "cell_type": "code",
   "execution_count": 9,
   "metadata": {},
   "outputs": [],
   "source": [
    "df = pd.concat([df1, df2, df3, df4], axis=0, ignore_index=True)"
   ]
  },
  {
   "cell_type": "code",
   "execution_count": 14,
   "metadata": {},
   "outputs": [
    {
     "data": {
      "text/html": [
       "<div>\n",
       "<style scoped>\n",
       "    .dataframe tbody tr th:only-of-type {\n",
       "        vertical-align: middle;\n",
       "    }\n",
       "\n",
       "    .dataframe tbody tr th {\n",
       "        vertical-align: top;\n",
       "    }\n",
       "\n",
       "    .dataframe thead th {\n",
       "        text-align: right;\n",
       "    }\n",
       "</style>\n",
       "<table border=\"1\" class=\"dataframe\">\n",
       "  <thead>\n",
       "    <tr style=\"text-align: right;\">\n",
       "      <th></th>\n",
       "      <th>id</th>\n",
       "      <th>data_inversa</th>\n",
       "      <th>dia_semana</th>\n",
       "      <th>horario</th>\n",
       "      <th>uf</th>\n",
       "      <th>br</th>\n",
       "      <th>km</th>\n",
       "      <th>municipio</th>\n",
       "      <th>causa_acidente</th>\n",
       "      <th>tipo_acidente</th>\n",
       "      <th>...</th>\n",
       "      <th>feridos_graves</th>\n",
       "      <th>ilesos</th>\n",
       "      <th>ignorados</th>\n",
       "      <th>feridos</th>\n",
       "      <th>veiculos</th>\n",
       "      <th>latitude</th>\n",
       "      <th>longitude</th>\n",
       "      <th>regional</th>\n",
       "      <th>delegacia</th>\n",
       "      <th>uop</th>\n",
       "    </tr>\n",
       "  </thead>\n",
       "  <tbody>\n",
       "    <tr>\n",
       "      <th>0</th>\n",
       "      <td>331730.0</td>\n",
       "      <td>2021-01-01</td>\n",
       "      <td>sexta-feira</td>\n",
       "      <td>05:30:00</td>\n",
       "      <td>SP</td>\n",
       "      <td>116</td>\n",
       "      <td>453</td>\n",
       "      <td>REGISTRO</td>\n",
       "      <td>Reação tardia ou ineficiente do condutor</td>\n",
       "      <td>Tombamento</td>\n",
       "      <td>...</td>\n",
       "      <td>0</td>\n",
       "      <td>0</td>\n",
       "      <td>0</td>\n",
       "      <td>1</td>\n",
       "      <td>1</td>\n",
       "      <td>-24,56168114</td>\n",
       "      <td>-47,86752174</td>\n",
       "      <td>SPRF-SP</td>\n",
       "      <td>DEL05-SP</td>\n",
       "      <td>UOP01-DEL05-SP</td>\n",
       "    </tr>\n",
       "    <tr>\n",
       "      <th>1</th>\n",
       "      <td>331804.0</td>\n",
       "      <td>2021-01-01</td>\n",
       "      <td>sexta-feira</td>\n",
       "      <td>08:05:00</td>\n",
       "      <td>AM</td>\n",
       "      <td>174</td>\n",
       "      <td>937</td>\n",
       "      <td>MANAUS</td>\n",
       "      <td>Reação tardia ou ineficiente do condutor</td>\n",
       "      <td>Colisão traseira</td>\n",
       "      <td>...</td>\n",
       "      <td>0</td>\n",
       "      <td>5</td>\n",
       "      <td>1</td>\n",
       "      <td>1</td>\n",
       "      <td>5</td>\n",
       "      <td>-2,508068</td>\n",
       "      <td>-60,036434</td>\n",
       "      <td>SPRF-AM</td>\n",
       "      <td>DEL01-AM</td>\n",
       "      <td>UOP01-DEL01-AM</td>\n",
       "    </tr>\n",
       "    <tr>\n",
       "      <th>2</th>\n",
       "      <td>331815.0</td>\n",
       "      <td>2021-01-01</td>\n",
       "      <td>sexta-feira</td>\n",
       "      <td>10:10:00</td>\n",
       "      <td>CE</td>\n",
       "      <td>222</td>\n",
       "      <td>128,5</td>\n",
       "      <td>ITAPAJE</td>\n",
       "      <td>Velocidade Incompatível</td>\n",
       "      <td>Tombamento</td>\n",
       "      <td>...</td>\n",
       "      <td>0</td>\n",
       "      <td>0</td>\n",
       "      <td>11</td>\n",
       "      <td>2</td>\n",
       "      <td>12</td>\n",
       "      <td>-3,707626</td>\n",
       "      <td>-39,623509</td>\n",
       "      <td>SPRF-CE</td>\n",
       "      <td>DEL04-CE</td>\n",
       "      <td>UOP03-DEL04-CE</td>\n",
       "    </tr>\n",
       "    <tr>\n",
       "      <th>3</th>\n",
       "      <td>331823.0</td>\n",
       "      <td>2021-01-01</td>\n",
       "      <td>sexta-feira</td>\n",
       "      <td>12:30:00</td>\n",
       "      <td>RJ</td>\n",
       "      <td>493</td>\n",
       "      <td>18</td>\n",
       "      <td>MAGE</td>\n",
       "      <td>Ingestão de álcool e/ou substâncias psicoativa...</td>\n",
       "      <td>Colisão lateral</td>\n",
       "      <td>...</td>\n",
       "      <td>0</td>\n",
       "      <td>1</td>\n",
       "      <td>1</td>\n",
       "      <td>1</td>\n",
       "      <td>3</td>\n",
       "      <td>-22,6687122</td>\n",
       "      <td>-43,01862696</td>\n",
       "      <td>SPRF-RJ</td>\n",
       "      <td>DEL04-RJ</td>\n",
       "      <td>UOP02-DEL04-RJ</td>\n",
       "    </tr>\n",
       "    <tr>\n",
       "      <th>4</th>\n",
       "      <td>331843.0</td>\n",
       "      <td>2021-01-01</td>\n",
       "      <td>sexta-feira</td>\n",
       "      <td>14:40:00</td>\n",
       "      <td>RJ</td>\n",
       "      <td>393</td>\n",
       "      <td>252</td>\n",
       "      <td>BARRA DO PIRAI</td>\n",
       "      <td>Condutor Dormindo</td>\n",
       "      <td>Colisão frontal</td>\n",
       "      <td>...</td>\n",
       "      <td>1</td>\n",
       "      <td>1</td>\n",
       "      <td>1</td>\n",
       "      <td>2</td>\n",
       "      <td>3</td>\n",
       "      <td>-22,43422023</td>\n",
       "      <td>-43,77561487</td>\n",
       "      <td>SPRF-RJ</td>\n",
       "      <td>DEL05-RJ</td>\n",
       "      <td>UOP04-DEL05-RJ</td>\n",
       "    </tr>\n",
       "  </tbody>\n",
       "</table>\n",
       "<p>5 rows × 30 columns</p>\n",
       "</div>"
      ],
      "text/plain": [
       "         id data_inversa   dia_semana   horario  uf   br     km  \\\n",
       "0  331730.0   2021-01-01  sexta-feira  05:30:00  SP  116    453   \n",
       "1  331804.0   2021-01-01  sexta-feira  08:05:00  AM  174    937   \n",
       "2  331815.0   2021-01-01  sexta-feira  10:10:00  CE  222  128,5   \n",
       "3  331823.0   2021-01-01  sexta-feira  12:30:00  RJ  493     18   \n",
       "4  331843.0   2021-01-01  sexta-feira  14:40:00  RJ  393    252   \n",
       "\n",
       "        municipio                                     causa_acidente  \\\n",
       "0        REGISTRO           Reação tardia ou ineficiente do condutor   \n",
       "1          MANAUS           Reação tardia ou ineficiente do condutor   \n",
       "2         ITAPAJE                            Velocidade Incompatível   \n",
       "3            MAGE  Ingestão de álcool e/ou substâncias psicoativa...   \n",
       "4  BARRA DO PIRAI                                  Condutor Dormindo   \n",
       "\n",
       "      tipo_acidente  ... feridos_graves ilesos ignorados feridos veiculos  \\\n",
       "0        Tombamento  ...              0      0         0       1        1   \n",
       "1  Colisão traseira  ...              0      5         1       1        5   \n",
       "2        Tombamento  ...              0      0        11       2       12   \n",
       "3   Colisão lateral  ...              0      1         1       1        3   \n",
       "4   Colisão frontal  ...              1      1         1       2        3   \n",
       "\n",
       "       latitude     longitude  regional  delegacia             uop  \n",
       "0  -24,56168114  -47,86752174   SPRF-SP   DEL05-SP  UOP01-DEL05-SP  \n",
       "1     -2,508068    -60,036434   SPRF-AM   DEL01-AM  UOP01-DEL01-AM  \n",
       "2     -3,707626    -39,623509   SPRF-CE   DEL04-CE  UOP03-DEL04-CE  \n",
       "3   -22,6687122  -43,01862696   SPRF-RJ   DEL04-RJ  UOP02-DEL04-RJ  \n",
       "4  -22,43422023  -43,77561487   SPRF-RJ   DEL05-RJ  UOP04-DEL05-RJ  \n",
       "\n",
       "[5 rows x 30 columns]"
      ]
     },
     "execution_count": 14,
     "metadata": {},
     "output_type": "execute_result"
    }
   ],
   "source": [
    "df.head()"
   ]
  },
  {
   "cell_type": "code",
   "execution_count": 11,
   "metadata": {},
   "outputs": [
    {
     "data": {
      "text/plain": [
       "Index(['id', 'data_inversa', 'dia_semana', 'horario', 'uf', 'br', 'km',\n",
       "       'municipio', 'causa_acidente', 'tipo_acidente',\n",
       "       'classificacao_acidente', 'fase_dia', 'sentido_via',\n",
       "       'condicao_metereologica', 'tipo_pista', 'tracado_via', 'uso_solo',\n",
       "       'pessoas', 'mortos', 'feridos_leves', 'feridos_graves', 'ilesos',\n",
       "       'ignorados', 'feridos', 'veiculos', 'latitude', 'longitude', 'regional',\n",
       "       'delegacia', 'uop'],\n",
       "      dtype='object')"
      ]
     },
     "execution_count": 11,
     "metadata": {},
     "output_type": "execute_result"
    }
   ],
   "source": [
    "df.columns"
   ]
  },
  {
   "cell_type": "code",
   "execution_count": 15,
   "metadata": {},
   "outputs": [
    {
     "data": {
      "text/plain": [
       "(250889, 30)"
      ]
     },
     "execution_count": 15,
     "metadata": {},
     "output_type": "execute_result"
    }
   ],
   "source": [
    "df.shape"
   ]
  },
  {
   "cell_type": "code",
   "execution_count": 17,
   "metadata": {},
   "outputs": [
    {
     "data": {
      "text/plain": [
       "id                          0\n",
       "data_inversa                0\n",
       "dia_semana                  0\n",
       "horario                     0\n",
       "uf                          0\n",
       "br                          0\n",
       "km                          0\n",
       "municipio                   0\n",
       "causa_acidente              0\n",
       "tipo_acidente               0\n",
       "classificacao_acidente      4\n",
       "fase_dia                    0\n",
       "sentido_via                 0\n",
       "condicao_metereologica      0\n",
       "tipo_pista                  0\n",
       "tracado_via                 0\n",
       "uso_solo                    0\n",
       "pessoas                     0\n",
       "mortos                      0\n",
       "feridos_leves               0\n",
       "feridos_graves              0\n",
       "ilesos                      0\n",
       "ignorados                   0\n",
       "feridos                     0\n",
       "veiculos                    0\n",
       "latitude                    0\n",
       "longitude                   0\n",
       "regional                   23\n",
       "delegacia                  85\n",
       "uop                       219\n",
       "dtype: int64"
      ]
     },
     "execution_count": 17,
     "metadata": {},
     "output_type": "execute_result"
    }
   ],
   "source": [
    "df.isnull().sum()"
   ]
  },
  {
   "cell_type": "markdown",
   "metadata": {},
   "source": [
    "Dados nulos a serem tratados: uop, delegacia, regional e classificacao_acidente"
   ]
  },
  {
   "cell_type": "code",
   "execution_count": 18,
   "metadata": {},
   "outputs": [
    {
     "data": {
      "text/plain": [
       "classificacao_acidente\n",
       "Com Vítimas Feridas    189879\n",
       "Sem Vítimas             42947\n",
       "Com Vítimas Fatais      18059\n",
       "Name: count, dtype: int64"
      ]
     },
     "execution_count": 18,
     "metadata": {},
     "output_type": "execute_result"
    }
   ],
   "source": [
    "df['classificacao_acidente'].value_counts()"
   ]
  },
  {
   "cell_type": "markdown",
   "metadata": {},
   "source": [
    "### Coluna classificacao_acidente:\n",
    "\n",
    "Verificando os dados acima, é possível ver que a grande maioria dos acidentes possuem vítimas feridas. Poderíamos substituir os dados nulos da coluna classificacao_acidente pela moda desta coluna, que seria \"Com Vítimas Feridas\".\n",
    "\n",
    "Por outro lado, não podemos dizer o que realmente ocorreu neste acidente, então também poderíamos excluir estes dados. Visto que só temos 4 dados nulos nesta coluna."
   ]
  },
  {
   "cell_type": "code",
   "execution_count": 22,
   "metadata": {},
   "outputs": [
    {
     "data": {
      "text/plain": [
       "regional\n",
       "SPRF-MG    32281\n",
       "SPRF-SC    29641\n",
       "SPRF-PR    27239\n",
       "SPRF-RJ    19499\n",
       "SPRF-RS    18301\n",
       "SPRF-SP    17016\n",
       "SPRF-BA    13279\n",
       "SPRF-PE    11015\n",
       "SPRF-ES     8837\n",
       "SPRF-MT     8524\n",
       "SPRF-GO     8328\n",
       "SPRF-DF     7270\n",
       "SPRF-MS     6383\n",
       "SPRF-PB     5846\n",
       "SPRF-CE     5393\n",
       "SPRF-RO     5324\n",
       "SPRF-RN     5164\n",
       "SPRF-PI     4718\n",
       "SPRF-MA     4114\n",
       "SPRF-PA     3281\n",
       "SPRF-AL     2291\n",
       "SPRF-TO     2276\n",
       "SPRF-SE     2141\n",
       "SPRF-AC      936\n",
       "SPRF-RR      738\n",
       "SPRF-AP      606\n",
       "SPRF-AM      423\n",
       "UniPRF         2\n",
       "Name: count, dtype: int64"
      ]
     },
     "execution_count": 22,
     "metadata": {},
     "output_type": "execute_result"
    }
   ],
   "source": [
    "df['regional'].value_counts()"
   ]
  },
  {
   "cell_type": "markdown",
   "metadata": {},
   "source": [
    "### Coluna 'regional':\n",
    "\n",
    "Nesta coluna, temos SPRF-XX onde XX é a sigla do estado onde provavelmente o acidente deve ter ocorrido. Neste caso, poderíamos utilizar a coluna 'uf' para fazer este tratamento dos dados."
   ]
  },
  {
   "cell_type": "code",
   "execution_count": 26,
   "metadata": {},
   "outputs": [
    {
     "data": {
      "text/plain": [
       "delegacia\n",
       "DEL01-PR    10079\n",
       "DEL04-SC     7941\n",
       "DEL01-SC     7061\n",
       "DEL01-MG     6712\n",
       "DEL01-PE     5488\n",
       "            ...  \n",
       "DEL02-PI      248\n",
       "DEL04-PA      241\n",
       "DEL06-MA      149\n",
       "SEOP-RR         5\n",
       "SEOP-AP         1\n",
       "Name: count, Length: 154, dtype: int64"
      ]
     },
     "execution_count": 26,
     "metadata": {},
     "output_type": "execute_result"
    }
   ],
   "source": [
    "df['delegacia'].value_counts()"
   ]
  },
  {
   "cell_type": "markdown",
   "metadata": {},
   "source": [
    "### Coluna 'delegacia':\n",
    "\n",
    "Aqui, poderiamos utilizar os XX finais da coluna 'regional' e a moda YY dos numeros DELYY-XX que ja aparecem para cada estado XX. "
   ]
  },
  {
   "cell_type": "code",
   "execution_count": 29,
   "metadata": {},
   "outputs": [
    {
     "data": {
      "text/plain": [
       "uop\n",
       "UOP01-DEL01-SC    4088\n",
       "UOP01-DEL01-SP    3858\n",
       "UOP01-DEL01-PE    3373\n",
       "UOP03-DEL01-MG    3303\n",
       "UOP01-DEL02-ES    2767\n",
       "                  ... \n",
       "UOP03-DEL01-AM       7\n",
       "NPF/DEL08-SP         5\n",
       "SEOP-RR              5\n",
       "NPF/DEL01-MT         4\n",
       "UOP02-DEL02-BA       1\n",
       "Name: count, Length: 404, dtype: int64"
      ]
     },
     "execution_count": 29,
     "metadata": {},
     "output_type": "execute_result"
    }
   ],
   "source": [
    "df['uop'].value_counts()"
   ]
  },
  {
   "cell_type": "markdown",
   "metadata": {},
   "source": [
    "### Coluna 'uop':\n",
    "Fazer o mesmo que no caso anterior, verificando a moda dos numeros ZZ para os dados UOPZZ-DELYY-XX, onde YY é a moda verificada anteriormente para a delegacia e XX é o estado proveniente da coluna 'uf'."
   ]
  },
  {
   "cell_type": "code",
   "execution_count": 30,
   "metadata": {},
   "outputs": [
    {
     "name": "stdout",
     "output_type": "stream",
     "text": [
      "<class 'pandas.core.frame.DataFrame'>\n",
      "RangeIndex: 250889 entries, 0 to 250888\n",
      "Data columns (total 30 columns):\n",
      " #   Column                  Non-Null Count   Dtype  \n",
      "---  ------                  --------------   -----  \n",
      " 0   id                      250889 non-null  float64\n",
      " 1   data_inversa            250889 non-null  object \n",
      " 2   dia_semana              250889 non-null  object \n",
      " 3   horario                 250889 non-null  object \n",
      " 4   uf                      250889 non-null  object \n",
      " 5   br                      250889 non-null  int64  \n",
      " 6   km                      250889 non-null  object \n",
      " 7   municipio               250889 non-null  object \n",
      " 8   causa_acidente          250889 non-null  object \n",
      " 9   tipo_acidente           250889 non-null  object \n",
      " 10  classificacao_acidente  250885 non-null  object \n",
      " 11  fase_dia                250889 non-null  object \n",
      " 12  sentido_via             250889 non-null  object \n",
      " 13  condicao_metereologica  250889 non-null  object \n",
      " 14  tipo_pista              250889 non-null  object \n",
      " 15  tracado_via             250889 non-null  object \n",
      " 16  uso_solo                250889 non-null  object \n",
      " 17  pessoas                 250889 non-null  int64  \n",
      " 18  mortos                  250889 non-null  int64  \n",
      " 19  feridos_leves           250889 non-null  int64  \n",
      " 20  feridos_graves          250889 non-null  int64  \n",
      " 21  ilesos                  250889 non-null  int64  \n",
      " 22  ignorados               250889 non-null  int64  \n",
      " 23  feridos                 250889 non-null  int64  \n",
      " 24  veiculos                250889 non-null  int64  \n",
      " 25  latitude                250889 non-null  object \n",
      " 26  longitude               250889 non-null  object \n",
      " 27  regional                250866 non-null  object \n",
      " 28  delegacia               250804 non-null  object \n",
      " 29  uop                     250670 non-null  object \n",
      "dtypes: float64(1), int64(9), object(20)\n",
      "memory usage: 57.4+ MB\n"
     ]
    }
   ],
   "source": [
    "df.info()"
   ]
  },
  {
   "cell_type": "markdown",
   "metadata": {},
   "source": [
    "## Tratamento do tipo de dados:\n",
    "\n",
    "Observando as informações acima, pensei nas seguintes mudanças:\n",
    "\n",
    "- data_inversa: mudar para o formato datetime\n",
    "- data_inversa (eng de atributos): criar duas colunas chamadas mês e ano, para que possa ser comparado os acidentes na br XXX no mes YY nos 4 anos diferentes, por exemplo.\n",
    "- horario (eng de atributos): criar periodo do dia: madrugada, manha, tarde e noite, dividindo as 24 horas em 0-6, 6-12, 12-18 e 18-24\n",
    "- km: trocar para int\n",
    "- latitude e longitude: trocar para float\n",
    "- regional, delegacia, uop, classificacao_acidente, uf: trocar para category"
   ]
  },
  {
   "cell_type": "code",
   "execution_count": 49,
   "metadata": {},
   "outputs": [
    {
     "data": {
      "text/html": [
       "<div>\n",
       "<style scoped>\n",
       "    .dataframe tbody tr th:only-of-type {\n",
       "        vertical-align: middle;\n",
       "    }\n",
       "\n",
       "    .dataframe tbody tr th {\n",
       "        vertical-align: top;\n",
       "    }\n",
       "\n",
       "    .dataframe thead th {\n",
       "        text-align: right;\n",
       "    }\n",
       "</style>\n",
       "<table border=\"1\" class=\"dataframe\">\n",
       "  <thead>\n",
       "    <tr style=\"text-align: right;\">\n",
       "      <th></th>\n",
       "      <th>id</th>\n",
       "      <th>br</th>\n",
       "      <th>pessoas</th>\n",
       "      <th>mortos</th>\n",
       "      <th>feridos_leves</th>\n",
       "      <th>feridos_graves</th>\n",
       "      <th>ilesos</th>\n",
       "      <th>ignorados</th>\n",
       "      <th>feridos</th>\n",
       "      <th>veiculos</th>\n",
       "    </tr>\n",
       "  </thead>\n",
       "  <tbody>\n",
       "    <tr>\n",
       "      <th>count</th>\n",
       "      <td>250889.000000</td>\n",
       "      <td>250889.000000</td>\n",
       "      <td>250889.000000</td>\n",
       "      <td>250889.000000</td>\n",
       "      <td>250889.000000</td>\n",
       "      <td>250889.000000</td>\n",
       "      <td>250889.000000</td>\n",
       "      <td>250889.000000</td>\n",
       "      <td>250889.000000</td>\n",
       "      <td>250889.000000</td>\n",
       "    </tr>\n",
       "    <tr>\n",
       "      <th>mean</th>\n",
       "      <td>487171.674055</td>\n",
       "      <td>210.154291</td>\n",
       "      <td>2.563137</td>\n",
       "      <td>0.083631</td>\n",
       "      <td>0.859133</td>\n",
       "      <td>0.278043</td>\n",
       "      <td>1.028881</td>\n",
       "      <td>0.401165</td>\n",
       "      <td>1.137176</td>\n",
       "      <td>1.985484</td>\n",
       "    </tr>\n",
       "    <tr>\n",
       "      <th>std</th>\n",
       "      <td>88135.406738</td>\n",
       "      <td>130.175294</td>\n",
       "      <td>2.116121</td>\n",
       "      <td>0.337769</td>\n",
       "      <td>1.068620</td>\n",
       "      <td>0.617826</td>\n",
       "      <td>1.649065</td>\n",
       "      <td>0.849458</td>\n",
       "      <td>1.193285</td>\n",
       "      <td>1.121350</td>\n",
       "    </tr>\n",
       "    <tr>\n",
       "      <th>min</th>\n",
       "      <td>331693.000000</td>\n",
       "      <td>0.000000</td>\n",
       "      <td>1.000000</td>\n",
       "      <td>0.000000</td>\n",
       "      <td>0.000000</td>\n",
       "      <td>0.000000</td>\n",
       "      <td>0.000000</td>\n",
       "      <td>0.000000</td>\n",
       "      <td>0.000000</td>\n",
       "      <td>1.000000</td>\n",
       "    </tr>\n",
       "    <tr>\n",
       "      <th>25%</th>\n",
       "      <td>404481.000000</td>\n",
       "      <td>101.000000</td>\n",
       "      <td>2.000000</td>\n",
       "      <td>0.000000</td>\n",
       "      <td>0.000000</td>\n",
       "      <td>0.000000</td>\n",
       "      <td>0.000000</td>\n",
       "      <td>0.000000</td>\n",
       "      <td>1.000000</td>\n",
       "      <td>1.000000</td>\n",
       "    </tr>\n",
       "    <tr>\n",
       "      <th>50%</th>\n",
       "      <td>493667.000000</td>\n",
       "      <td>158.000000</td>\n",
       "      <td>2.000000</td>\n",
       "      <td>0.000000</td>\n",
       "      <td>1.000000</td>\n",
       "      <td>0.000000</td>\n",
       "      <td>1.000000</td>\n",
       "      <td>0.000000</td>\n",
       "      <td>1.000000</td>\n",
       "      <td>2.000000</td>\n",
       "    </tr>\n",
       "    <tr>\n",
       "      <th>75%</th>\n",
       "      <td>563207.000000</td>\n",
       "      <td>324.000000</td>\n",
       "      <td>3.000000</td>\n",
       "      <td>0.000000</td>\n",
       "      <td>1.000000</td>\n",
       "      <td>0.000000</td>\n",
       "      <td>1.000000</td>\n",
       "      <td>1.000000</td>\n",
       "      <td>1.000000</td>\n",
       "      <td>2.000000</td>\n",
       "    </tr>\n",
       "    <tr>\n",
       "      <th>max</th>\n",
       "      <td>636019.000000</td>\n",
       "      <td>498.000000</td>\n",
       "      <td>95.000000</td>\n",
       "      <td>23.000000</td>\n",
       "      <td>61.000000</td>\n",
       "      <td>31.000000</td>\n",
       "      <td>61.000000</td>\n",
       "      <td>88.000000</td>\n",
       "      <td>62.000000</td>\n",
       "      <td>131.000000</td>\n",
       "    </tr>\n",
       "  </tbody>\n",
       "</table>\n",
       "</div>"
      ],
      "text/plain": [
       "                  id             br        pessoas         mortos  \\\n",
       "count  250889.000000  250889.000000  250889.000000  250889.000000   \n",
       "mean   487171.674055     210.154291       2.563137       0.083631   \n",
       "std     88135.406738     130.175294       2.116121       0.337769   \n",
       "min    331693.000000       0.000000       1.000000       0.000000   \n",
       "25%    404481.000000     101.000000       2.000000       0.000000   \n",
       "50%    493667.000000     158.000000       2.000000       0.000000   \n",
       "75%    563207.000000     324.000000       3.000000       0.000000   \n",
       "max    636019.000000     498.000000      95.000000      23.000000   \n",
       "\n",
       "       feridos_leves  feridos_graves         ilesos      ignorados  \\\n",
       "count  250889.000000   250889.000000  250889.000000  250889.000000   \n",
       "mean        0.859133        0.278043       1.028881       0.401165   \n",
       "std         1.068620        0.617826       1.649065       0.849458   \n",
       "min         0.000000        0.000000       0.000000       0.000000   \n",
       "25%         0.000000        0.000000       0.000000       0.000000   \n",
       "50%         1.000000        0.000000       1.000000       0.000000   \n",
       "75%         1.000000        0.000000       1.000000       1.000000   \n",
       "max        61.000000       31.000000      61.000000      88.000000   \n",
       "\n",
       "             feridos       veiculos  \n",
       "count  250889.000000  250889.000000  \n",
       "mean        1.137176       1.985484  \n",
       "std         1.193285       1.121350  \n",
       "min         0.000000       1.000000  \n",
       "25%         1.000000       1.000000  \n",
       "50%         1.000000       2.000000  \n",
       "75%         1.000000       2.000000  \n",
       "max        62.000000     131.000000  "
      ]
     },
     "execution_count": 49,
     "metadata": {},
     "output_type": "execute_result"
    }
   ],
   "source": [
    "df.describe()"
   ]
  },
  {
   "cell_type": "markdown",
   "metadata": {},
   "source": [
    "## Ideias:\n",
    "\n",
    "- quantidade de acidentes por dia da semana \n",
    "- quantidade de acidentes por estado \n",
    "- quantidade de acidentes por br\n",
    "- quantidade de acidentes por dia da semana (por estado e por br)\n",
    "- quantidade de acidentes por dia da semana (considerando apenas acidentes com óbitos) - (é melhor dirigir na estrada em que dia da semana?)\n",
    "- quantidade de acidentes por periodo do dia\n",
    "- quantidade de acidentes no mesmo mes nos diferentes anos - (comparando o mes de abri de 2021, 22, 23 e 24, aumentaram os acidentes em certo estado?)\n",
    "- quantidade de acidentes por periodo do mes (poderiamos particionar em dia1 - dia10, dia11-dia20, dia21-diafinal) - (existe uma lógica nisso?)\n",
    "- quantidade de acidentes por dia da semana (considerando acidentes sem feridos - aqueles acidentes mais tranquilos)\n"
   ]
  },
  {
   "cell_type": "markdown",
   "metadata": {},
   "source": []
  }
 ],
 "metadata": {
  "kernelspec": {
   "display_name": "taa",
   "language": "python",
   "name": "python3"
  },
  "language_info": {
   "codemirror_mode": {
    "name": "ipython",
    "version": 3
   },
   "file_extension": ".py",
   "mimetype": "text/x-python",
   "name": "python",
   "nbconvert_exporter": "python",
   "pygments_lexer": "ipython3",
   "version": "3.12.4"
  }
 },
 "nbformat": 4,
 "nbformat_minor": 2
}
