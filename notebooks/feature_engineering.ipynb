{
 "cells": [
  {
   "cell_type": "markdown",
   "metadata": {},
   "source": [
    "# Engenharia de Atributos"
   ]
  },
  {
   "cell_type": "markdown",
   "metadata": {},
   "source": [
    "Importando as dependências"
   ]
  },
  {
   "cell_type": "code",
   "execution_count": 147,
   "metadata": {},
   "outputs": [],
   "source": [
    "import pandas as pd\n",
    "import numpy as np\n",
    "import matplotlib.pyplot as plt\n",
    "import seaborn as sns"
   ]
  },
  {
   "cell_type": "markdown",
   "metadata": {},
   "source": [
    "Lendo os dados brutos e concatenando-os em um único dataframe"
   ]
  },
  {
   "cell_type": "code",
   "execution_count": 148,
   "metadata": {},
   "outputs": [
    {
     "data": {
      "text/plain": [
       "(250889, 30)"
      ]
     },
     "execution_count": 148,
     "metadata": {},
     "output_type": "execute_result"
    }
   ],
   "source": [
    "base_path = '../data/raw/' \n",
    "\n",
    "dados_2021 = pd.read_csv(base_path + '2021.csv', encoding='latin-1', sep=';')\n",
    "dados_2022 = pd.read_csv(base_path + '2022.csv', sep=',')\n",
    "dados_2023 = pd.read_csv(base_path + '2023.csv', encoding='latin-1', sep=';')\n",
    "dados_2024 = pd.read_csv(base_path + '2024.csv', sep=',')\n",
    "\n",
    "dados = pd.concat([dados_2021, dados_2022, dados_2023, dados_2024], axis=0, ignore_index=True)\n",
    "\n",
    "dados.shape"
   ]
  },
  {
   "cell_type": "markdown",
   "metadata": {},
   "source": [
    "Na análise exploratória, foram indentificadas colunas em que haviam dados nulos:"
   ]
  },
  {
   "cell_type": "code",
   "execution_count": 149,
   "metadata": {},
   "outputs": [
    {
     "data": {
      "text/plain": [
       "uop                       219\n",
       "delegacia                  85\n",
       "regional                   23\n",
       "classificacao_acidente      4\n",
       "dtype: int64"
      ]
     },
     "execution_count": 149,
     "metadata": {},
     "output_type": "execute_result"
    }
   ],
   "source": [
    "nulos = dados.isnull().sum().sort_values(ascending=False)\n",
    "nulos[nulos>0]"
   ]
  },
  {
   "cell_type": "markdown",
   "metadata": {},
   "source": [
    "Reconhecendo os dados dessas colunas"
   ]
  },
  {
   "cell_type": "code",
   "execution_count": 150,
   "metadata": {},
   "outputs": [
    {
     "data": {
      "text/plain": [
       "(0    UOP01-DEL05-SP\n",
       " 1    UOP01-DEL01-AM\n",
       " 2    UOP03-DEL04-CE\n",
       " 3    UOP02-DEL04-RJ\n",
       " 4    UOP04-DEL05-RJ\n",
       " Name: uop, dtype: object,\n",
       " 0    DEL05-SP\n",
       " 1    DEL01-AM\n",
       " 2    DEL04-CE\n",
       " 3    DEL04-RJ\n",
       " 4    DEL05-RJ\n",
       " Name: delegacia, dtype: object,\n",
       " 0    SPRF-SP\n",
       " 1    SPRF-AM\n",
       " 2    SPRF-CE\n",
       " 3    SPRF-RJ\n",
       " 4    SPRF-RJ\n",
       " Name: regional, dtype: object,\n",
       " 0    Com Vítimas Feridas\n",
       " 1                    NaN\n",
       " 2    Com Vítimas Feridas\n",
       " 3    Com Vítimas Feridas\n",
       " 4    Com Vítimas Feridas\n",
       " Name: classificacao_acidente, dtype: object)"
      ]
     },
     "execution_count": 150,
     "metadata": {},
     "output_type": "execute_result"
    }
   ],
   "source": [
    "dados['uop'].head(5), dados['delegacia'].head(5), dados['regional'].head(5), dados['classificacao_acidente'].head(5)"
   ]
  },
  {
   "cell_type": "markdown",
   "metadata": {},
   "source": [
    "Substituindo os dados faltantes pela moda das respectivas colunas, mas considerando a unidade federativa específica para a substituição assim os dados ficarão mais precisos. Ao mesmo tempo, para aproveitar o laço de repetição, vamos criar a coluna periodo que constará a informação do período do dia que o acidente ocorreu."
   ]
  },
  {
   "cell_type": "code",
   "execution_count": 151,
   "metadata": {},
   "outputs": [],
   "source": [
    "zero_h = pd.to_datetime('00:00:00', format='%H:%M:%S').time()\n",
    "seis_h = pd.to_datetime('06:00:00', format='%H:%M:%S').time()\n",
    "doze_h = pd.to_datetime('12:00:00', format='%H:%M:%S').time()\n",
    "dezoito_h = pd.to_datetime('18:00:00', format='%H:%M:%S').time()\n",
    "\n",
    "for index, row in dados.iterrows():\n",
    "\n",
    "    if pd.isnull(row['uop']):\n",
    "\n",
    "        uf_especifica = row['uf'] \n",
    "        aux_df = dados[dados['uf'] == uf_especifica]\n",
    "        if not aux_df['uop'].mode().empty:\n",
    "            dados.at[index, 'uop'] = aux_df['uop'].mode()[0]\n",
    "\n",
    "    if pd.isnull(row['delegacia']):\n",
    "\n",
    "        uf_especifica = row['uf'] \n",
    "        aux_df = dados[dados['uf'] == uf_especifica]\n",
    "\n",
    "        if not aux_df['delegacia'].mode().empty:\n",
    "            dados.at[index, 'delegacia'] = aux_df['delegacia'].mode()[0]\n",
    "\n",
    "    if pd.isnull(row['regional']):\n",
    "\n",
    "        uf_especifica = row['uf'] \n",
    "        aux_df = dados[dados['uf'] == uf_especifica]\n",
    "\n",
    "        if not aux_df['regional'].mode().empty:\n",
    "            dados.at[index, 'regional'] = aux_df['regional'].mode()[0]\n",
    "\n",
    "    if pd.isnull(row['classificacao_acidente']):\n",
    "\n",
    "        uf_especifica = row['uf'] \n",
    "        aux_df = dados[dados['uf'] == uf_especifica]\n",
    "\n",
    "        if not aux_df['classificacao_acidente'].mode().empty:\n",
    "            dados.at[index, 'classificacao_acidente'] = aux_df['classificacao_acidente'].mode()[0]\n",
    "\n",
    "    horario =  pd.to_datetime(row['horario'], format='%H:%M:%S').time()\n",
    "\n",
    "    if horario >= zero_h and horario<seis_h:\n",
    "        dados.at[index, 'periodo'] = 'madrugada'\n",
    "    elif horario >= seis_h and horario < doze_h:\n",
    "        dados.at[index, 'periodo'] = 'manhã'\n",
    "    elif horario >= doze_h and horario < dezoito_h:\n",
    "        dados.at[index, 'periodo'] = 'tarde'\n",
    "    else:\n",
    "        dados.at[index, 'periodo'] = 'noite'"
   ]
  },
  {
   "cell_type": "markdown",
   "metadata": {},
   "source": [
    "Checando se os valores nulos foram realmente preenchidos. Como nenhuma coluna com valor nulo é impressa, não existem mais valores nulos na base."
   ]
  },
  {
   "cell_type": "code",
   "execution_count": 152,
   "metadata": {},
   "outputs": [
    {
     "data": {
      "text/plain": [
       "Series([], dtype: int64)"
      ]
     },
     "execution_count": 152,
     "metadata": {},
     "output_type": "execute_result"
    }
   ],
   "source": [
    "nulos = dados.isnull().sum().sort_values(ascending=False)\n",
    "nulos[nulos>0]\n"
   ]
  },
  {
   "cell_type": "markdown",
   "metadata": {},
   "source": [
    "Conferindo o tipo de dados para cada coluna"
   ]
  },
  {
   "cell_type": "code",
   "execution_count": 153,
   "metadata": {},
   "outputs": [
    {
     "data": {
      "text/plain": [
       "id                        float64\n",
       "data_inversa               object\n",
       "dia_semana                 object\n",
       "horario                    object\n",
       "uf                         object\n",
       "br                          int64\n",
       "km                         object\n",
       "municipio                  object\n",
       "causa_acidente             object\n",
       "tipo_acidente              object\n",
       "classificacao_acidente     object\n",
       "fase_dia                   object\n",
       "sentido_via                object\n",
       "condicao_metereologica     object\n",
       "tipo_pista                 object\n",
       "tracado_via                object\n",
       "uso_solo                   object\n",
       "pessoas                     int64\n",
       "mortos                      int64\n",
       "feridos_leves               int64\n",
       "feridos_graves              int64\n",
       "ilesos                      int64\n",
       "ignorados                   int64\n",
       "feridos                     int64\n",
       "veiculos                    int64\n",
       "latitude                   object\n",
       "longitude                  object\n",
       "regional                   object\n",
       "delegacia                  object\n",
       "uop                        object\n",
       "periodo                    object\n",
       "dtype: object"
      ]
     },
     "execution_count": 153,
     "metadata": {},
     "output_type": "execute_result"
    }
   ],
   "source": [
    "tipos_dados = dados.dtypes\n",
    "\n",
    "tipos_dados"
   ]
  },
  {
   "cell_type": "markdown",
   "metadata": {},
   "source": [
    "Realizando conversões no tipo do dado para as colunas"
   ]
  },
  {
   "cell_type": "code",
   "execution_count": 154,
   "metadata": {},
   "outputs": [
    {
     "name": "stdout",
     "output_type": "stream",
     "text": [
      "Os novos tipos para os dados das colunas:\n"
     ]
    },
    {
     "data": {
      "text/plain": [
       "km                         float64\n",
       "uop                       category\n",
       "delegacia                 category\n",
       "regional                  category\n",
       "classificacao_acidente    category\n",
       "periodo                   category\n",
       "dtype: object"
      ]
     },
     "execution_count": 154,
     "metadata": {},
     "output_type": "execute_result"
    }
   ],
   "source": [
    "# usando ponto (.) para delimitar casa decimal, padrão da linguagem python\n",
    "dados['km'] = dados['km'].str.replace(',', '.').astype(float)\n",
    "dados['uop'] = dados['uop'].astype('category')\n",
    "dados['delegacia'] = dados['delegacia'].astype('category')\n",
    "dados['regional'] = dados['regional'].astype('category')\n",
    "dados['classificacao_acidente'] = dados['classificacao_acidente'].astype('category')\n",
    "dados['periodo'] = dados['periodo'].astype('category')\n",
    "\n",
    "print('Os novos tipos para os dados das colunas:')\n",
    "dados[['km', 'uop', 'delegacia', 'regional', 'classificacao_acidente', 'periodo']].dtypes"
   ]
  },
  {
   "cell_type": "markdown",
   "metadata": {},
   "source": [
    "Tratamento de data/hora, mudando para o formato datetime padrão americano MM-DD-YYYY HH:MM AM/PM que geralmente são usados nos bancos de dados"
   ]
  },
  {
   "cell_type": "code",
   "execution_count": 155,
   "metadata": {},
   "outputs": [],
   "source": [
    "dados['datetime'] = pd.to_datetime(dados['data_inversa'] + ' ' + dados['horario'])\n",
    "\n",
    "# padrão americano, geralmente usado nos banco de dados\n",
    "dados['datetime'] = dados['datetime'].dt.strftime('%m-%d-%Y %I:%M %p')\n",
    "\n",
    "dados = dados.drop(columns=['data_inversa', 'horario'])"
   ]
  },
  {
   "cell_type": "markdown",
   "metadata": {},
   "source": [
    "Verificando a base de dados antes de persistí-la"
   ]
  },
  {
   "cell_type": "code",
   "execution_count": 156,
   "metadata": {},
   "outputs": [
    {
     "data": {
      "text/plain": [
       "(250889, 30)"
      ]
     },
     "execution_count": 156,
     "metadata": {},
     "output_type": "execute_result"
    }
   ],
   "source": [
    "dados.shape"
   ]
  },
  {
   "cell_type": "code",
   "execution_count": 157,
   "metadata": {},
   "outputs": [
    {
     "data": {
      "text/html": [
       "<div>\n",
       "<style scoped>\n",
       "    .dataframe tbody tr th:only-of-type {\n",
       "        vertical-align: middle;\n",
       "    }\n",
       "\n",
       "    .dataframe tbody tr th {\n",
       "        vertical-align: top;\n",
       "    }\n",
       "\n",
       "    .dataframe thead th {\n",
       "        text-align: right;\n",
       "    }\n",
       "</style>\n",
       "<table border=\"1\" class=\"dataframe\">\n",
       "  <thead>\n",
       "    <tr style=\"text-align: right;\">\n",
       "      <th></th>\n",
       "      <th>id</th>\n",
       "      <th>dia_semana</th>\n",
       "      <th>uf</th>\n",
       "      <th>br</th>\n",
       "      <th>km</th>\n",
       "      <th>municipio</th>\n",
       "      <th>causa_acidente</th>\n",
       "      <th>tipo_acidente</th>\n",
       "      <th>classificacao_acidente</th>\n",
       "      <th>fase_dia</th>\n",
       "      <th>...</th>\n",
       "      <th>ignorados</th>\n",
       "      <th>feridos</th>\n",
       "      <th>veiculos</th>\n",
       "      <th>latitude</th>\n",
       "      <th>longitude</th>\n",
       "      <th>regional</th>\n",
       "      <th>delegacia</th>\n",
       "      <th>uop</th>\n",
       "      <th>periodo</th>\n",
       "      <th>datetime</th>\n",
       "    </tr>\n",
       "  </thead>\n",
       "  <tbody>\n",
       "    <tr>\n",
       "      <th>0</th>\n",
       "      <td>331730.0</td>\n",
       "      <td>sexta-feira</td>\n",
       "      <td>SP</td>\n",
       "      <td>116</td>\n",
       "      <td>453.0</td>\n",
       "      <td>REGISTRO</td>\n",
       "      <td>Reação tardia ou ineficiente do condutor</td>\n",
       "      <td>Tombamento</td>\n",
       "      <td>Com Vítimas Feridas</td>\n",
       "      <td>Amanhecer</td>\n",
       "      <td>...</td>\n",
       "      <td>0</td>\n",
       "      <td>1</td>\n",
       "      <td>1</td>\n",
       "      <td>-24,56168114</td>\n",
       "      <td>-47,86752174</td>\n",
       "      <td>SPRF-SP</td>\n",
       "      <td>DEL05-SP</td>\n",
       "      <td>UOP01-DEL05-SP</td>\n",
       "      <td>madrugada</td>\n",
       "      <td>01-01-2021 05:30</td>\n",
       "    </tr>\n",
       "    <tr>\n",
       "      <th>1</th>\n",
       "      <td>331804.0</td>\n",
       "      <td>sexta-feira</td>\n",
       "      <td>AM</td>\n",
       "      <td>174</td>\n",
       "      <td>937.0</td>\n",
       "      <td>MANAUS</td>\n",
       "      <td>Reação tardia ou ineficiente do condutor</td>\n",
       "      <td>Colisão traseira</td>\n",
       "      <td>Com Vítimas Feridas</td>\n",
       "      <td>Pleno dia</td>\n",
       "      <td>...</td>\n",
       "      <td>1</td>\n",
       "      <td>1</td>\n",
       "      <td>5</td>\n",
       "      <td>-2,508068</td>\n",
       "      <td>-60,036434</td>\n",
       "      <td>SPRF-AM</td>\n",
       "      <td>DEL01-AM</td>\n",
       "      <td>UOP01-DEL01-AM</td>\n",
       "      <td>manhã</td>\n",
       "      <td>01-01-2021 08:05</td>\n",
       "    </tr>\n",
       "    <tr>\n",
       "      <th>2</th>\n",
       "      <td>331815.0</td>\n",
       "      <td>sexta-feira</td>\n",
       "      <td>CE</td>\n",
       "      <td>222</td>\n",
       "      <td>128.5</td>\n",
       "      <td>ITAPAJE</td>\n",
       "      <td>Velocidade Incompatível</td>\n",
       "      <td>Tombamento</td>\n",
       "      <td>Com Vítimas Feridas</td>\n",
       "      <td>Pleno dia</td>\n",
       "      <td>...</td>\n",
       "      <td>11</td>\n",
       "      <td>2</td>\n",
       "      <td>12</td>\n",
       "      <td>-3,707626</td>\n",
       "      <td>-39,623509</td>\n",
       "      <td>SPRF-CE</td>\n",
       "      <td>DEL04-CE</td>\n",
       "      <td>UOP03-DEL04-CE</td>\n",
       "      <td>manhã</td>\n",
       "      <td>01-01-2021 10:10</td>\n",
       "    </tr>\n",
       "    <tr>\n",
       "      <th>3</th>\n",
       "      <td>331823.0</td>\n",
       "      <td>sexta-feira</td>\n",
       "      <td>RJ</td>\n",
       "      <td>493</td>\n",
       "      <td>18.0</td>\n",
       "      <td>MAGE</td>\n",
       "      <td>Ingestão de álcool e/ou substâncias psicoativa...</td>\n",
       "      <td>Colisão lateral</td>\n",
       "      <td>Com Vítimas Feridas</td>\n",
       "      <td>Pleno dia</td>\n",
       "      <td>...</td>\n",
       "      <td>1</td>\n",
       "      <td>1</td>\n",
       "      <td>3</td>\n",
       "      <td>-22,6687122</td>\n",
       "      <td>-43,01862696</td>\n",
       "      <td>SPRF-RJ</td>\n",
       "      <td>DEL04-RJ</td>\n",
       "      <td>UOP02-DEL04-RJ</td>\n",
       "      <td>tarde</td>\n",
       "      <td>01-01-2021 12:30</td>\n",
       "    </tr>\n",
       "    <tr>\n",
       "      <th>4</th>\n",
       "      <td>331843.0</td>\n",
       "      <td>sexta-feira</td>\n",
       "      <td>RJ</td>\n",
       "      <td>393</td>\n",
       "      <td>252.0</td>\n",
       "      <td>BARRA DO PIRAI</td>\n",
       "      <td>Condutor Dormindo</td>\n",
       "      <td>Colisão frontal</td>\n",
       "      <td>Com Vítimas Feridas</td>\n",
       "      <td>Pleno dia</td>\n",
       "      <td>...</td>\n",
       "      <td>1</td>\n",
       "      <td>2</td>\n",
       "      <td>3</td>\n",
       "      <td>-22,43422023</td>\n",
       "      <td>-43,77561487</td>\n",
       "      <td>SPRF-RJ</td>\n",
       "      <td>DEL05-RJ</td>\n",
       "      <td>UOP04-DEL05-RJ</td>\n",
       "      <td>tarde</td>\n",
       "      <td>01-01-2021 02:40</td>\n",
       "    </tr>\n",
       "    <tr>\n",
       "      <th>...</th>\n",
       "      <td>...</td>\n",
       "      <td>...</td>\n",
       "      <td>...</td>\n",
       "      <td>...</td>\n",
       "      <td>...</td>\n",
       "      <td>...</td>\n",
       "      <td>...</td>\n",
       "      <td>...</td>\n",
       "      <td>...</td>\n",
       "      <td>...</td>\n",
       "      <td>...</td>\n",
       "      <td>...</td>\n",
       "      <td>...</td>\n",
       "      <td>...</td>\n",
       "      <td>...</td>\n",
       "      <td>...</td>\n",
       "      <td>...</td>\n",
       "      <td>...</td>\n",
       "      <td>...</td>\n",
       "      <td>...</td>\n",
       "      <td>...</td>\n",
       "    </tr>\n",
       "    <tr>\n",
       "      <th>250884</th>\n",
       "      <td>635554.0</td>\n",
       "      <td>sexta-feira</td>\n",
       "      <td>BA</td>\n",
       "      <td>324</td>\n",
       "      <td>615.0</td>\n",
       "      <td>SALVADOR</td>\n",
       "      <td>Condutor deixou de manter distância do veículo...</td>\n",
       "      <td>Colisão lateral mesmo sentido</td>\n",
       "      <td>Com Vítimas Feridas</td>\n",
       "      <td>Pleno dia</td>\n",
       "      <td>...</td>\n",
       "      <td>0</td>\n",
       "      <td>1</td>\n",
       "      <td>2</td>\n",
       "      <td>-12,87206398</td>\n",
       "      <td>-38,42746403</td>\n",
       "      <td>SPRF-BA</td>\n",
       "      <td>DEL01-BA</td>\n",
       "      <td>UOP01-DEL01-BA</td>\n",
       "      <td>tarde</td>\n",
       "      <td>09-27-2024 04:15</td>\n",
       "    </tr>\n",
       "    <tr>\n",
       "      <th>250885</th>\n",
       "      <td>635630.0</td>\n",
       "      <td>domingo</td>\n",
       "      <td>RJ</td>\n",
       "      <td>116</td>\n",
       "      <td>108.0</td>\n",
       "      <td>GUAPIMIRIM</td>\n",
       "      <td>Condutor deixou de manter distância do veículo...</td>\n",
       "      <td>Colisão traseira</td>\n",
       "      <td>Com Vítimas Feridas</td>\n",
       "      <td>Plena Noite</td>\n",
       "      <td>...</td>\n",
       "      <td>0</td>\n",
       "      <td>1</td>\n",
       "      <td>2</td>\n",
       "      <td>-22,535843</td>\n",
       "      <td>-42,99125</td>\n",
       "      <td>SPRF-RJ</td>\n",
       "      <td>DEL04-RJ</td>\n",
       "      <td>UOP01-DEL04-RJ</td>\n",
       "      <td>noite</td>\n",
       "      <td>09-15-2024 08:30</td>\n",
       "    </tr>\n",
       "    <tr>\n",
       "      <th>250886</th>\n",
       "      <td>635699.0</td>\n",
       "      <td>terça-feira</td>\n",
       "      <td>AP</td>\n",
       "      <td>210</td>\n",
       "      <td>3.0</td>\n",
       "      <td>MACAPA</td>\n",
       "      <td>Transitar na calçada</td>\n",
       "      <td>Colisão lateral sentido oposto</td>\n",
       "      <td>Sem Vítimas</td>\n",
       "      <td>Pleno dia</td>\n",
       "      <td>...</td>\n",
       "      <td>0</td>\n",
       "      <td>0</td>\n",
       "      <td>2</td>\n",
       "      <td>0,08723365</td>\n",
       "      <td>-51,08569007</td>\n",
       "      <td>SPRF-AP</td>\n",
       "      <td>DEL01-AP</td>\n",
       "      <td>UOP01-DEL01-AP</td>\n",
       "      <td>tarde</td>\n",
       "      <td>08-13-2024 04:22</td>\n",
       "    </tr>\n",
       "    <tr>\n",
       "      <th>250887</th>\n",
       "      <td>635887.0</td>\n",
       "      <td>sábado</td>\n",
       "      <td>PR</td>\n",
       "      <td>277</td>\n",
       "      <td>679.0</td>\n",
       "      <td>MEDIANEIRA</td>\n",
       "      <td>Manobra de mudança de faixa</td>\n",
       "      <td>Capotamento</td>\n",
       "      <td>Com Vítimas Feridas</td>\n",
       "      <td>Plena Noite</td>\n",
       "      <td>...</td>\n",
       "      <td>0</td>\n",
       "      <td>1</td>\n",
       "      <td>2</td>\n",
       "      <td>-25,31758044</td>\n",
       "      <td>-54,15684223</td>\n",
       "      <td>SPRF-PR</td>\n",
       "      <td>DEL05-PR</td>\n",
       "      <td>UOP01-DEL05-PR</td>\n",
       "      <td>noite</td>\n",
       "      <td>09-21-2024 06:50</td>\n",
       "    </tr>\n",
       "    <tr>\n",
       "      <th>250888</th>\n",
       "      <td>636019.0</td>\n",
       "      <td>domingo</td>\n",
       "      <td>PR</td>\n",
       "      <td>116</td>\n",
       "      <td>5.0</td>\n",
       "      <td>QUATRO BARRAS</td>\n",
       "      <td>Chuva</td>\n",
       "      <td>Colisão lateral mesmo sentido</td>\n",
       "      <td>Com Vítimas Feridas</td>\n",
       "      <td>Plena Noite</td>\n",
       "      <td>...</td>\n",
       "      <td>0</td>\n",
       "      <td>1</td>\n",
       "      <td>2</td>\n",
       "      <td>-25,3653</td>\n",
       "      <td>-49,0906</td>\n",
       "      <td>SPRF-PR</td>\n",
       "      <td>DEL01-PR</td>\n",
       "      <td>UOP02-DEL01-PR</td>\n",
       "      <td>noite</td>\n",
       "      <td>09-15-2024 07:00</td>\n",
       "    </tr>\n",
       "  </tbody>\n",
       "</table>\n",
       "<p>250889 rows × 30 columns</p>\n",
       "</div>"
      ],
      "text/plain": [
       "              id   dia_semana  uf   br     km       municipio  \\\n",
       "0       331730.0  sexta-feira  SP  116  453.0        REGISTRO   \n",
       "1       331804.0  sexta-feira  AM  174  937.0          MANAUS   \n",
       "2       331815.0  sexta-feira  CE  222  128.5         ITAPAJE   \n",
       "3       331823.0  sexta-feira  RJ  493   18.0            MAGE   \n",
       "4       331843.0  sexta-feira  RJ  393  252.0  BARRA DO PIRAI   \n",
       "...          ...          ...  ..  ...    ...             ...   \n",
       "250884  635554.0  sexta-feira  BA  324  615.0        SALVADOR   \n",
       "250885  635630.0      domingo  RJ  116  108.0      GUAPIMIRIM   \n",
       "250886  635699.0  terça-feira  AP  210    3.0          MACAPA   \n",
       "250887  635887.0       sábado  PR  277  679.0      MEDIANEIRA   \n",
       "250888  636019.0      domingo  PR  116    5.0   QUATRO BARRAS   \n",
       "\n",
       "                                           causa_acidente  \\\n",
       "0                Reação tardia ou ineficiente do condutor   \n",
       "1                Reação tardia ou ineficiente do condutor   \n",
       "2                                 Velocidade Incompatível   \n",
       "3       Ingestão de álcool e/ou substâncias psicoativa...   \n",
       "4                                       Condutor Dormindo   \n",
       "...                                                   ...   \n",
       "250884  Condutor deixou de manter distância do veículo...   \n",
       "250885  Condutor deixou de manter distância do veículo...   \n",
       "250886                               Transitar na calçada   \n",
       "250887                        Manobra de mudança de faixa   \n",
       "250888                                              Chuva   \n",
       "\n",
       "                         tipo_acidente classificacao_acidente     fase_dia  \\\n",
       "0                           Tombamento    Com Vítimas Feridas    Amanhecer   \n",
       "1                     Colisão traseira    Com Vítimas Feridas    Pleno dia   \n",
       "2                           Tombamento    Com Vítimas Feridas    Pleno dia   \n",
       "3                      Colisão lateral    Com Vítimas Feridas    Pleno dia   \n",
       "4                      Colisão frontal    Com Vítimas Feridas    Pleno dia   \n",
       "...                                ...                    ...          ...   \n",
       "250884   Colisão lateral mesmo sentido    Com Vítimas Feridas    Pleno dia   \n",
       "250885                Colisão traseira    Com Vítimas Feridas  Plena Noite   \n",
       "250886  Colisão lateral sentido oposto            Sem Vítimas    Pleno dia   \n",
       "250887                     Capotamento    Com Vítimas Feridas  Plena Noite   \n",
       "250888   Colisão lateral mesmo sentido    Com Vítimas Feridas  Plena Noite   \n",
       "\n",
       "        ... ignorados feridos veiculos      latitude     longitude  regional  \\\n",
       "0       ...         0       1        1  -24,56168114  -47,86752174   SPRF-SP   \n",
       "1       ...         1       1        5     -2,508068    -60,036434   SPRF-AM   \n",
       "2       ...        11       2       12     -3,707626    -39,623509   SPRF-CE   \n",
       "3       ...         1       1        3   -22,6687122  -43,01862696   SPRF-RJ   \n",
       "4       ...         1       2        3  -22,43422023  -43,77561487   SPRF-RJ   \n",
       "...     ...       ...     ...      ...           ...           ...       ...   \n",
       "250884  ...         0       1        2  -12,87206398  -38,42746403   SPRF-BA   \n",
       "250885  ...         0       1        2    -22,535843     -42,99125   SPRF-RJ   \n",
       "250886  ...         0       0        2    0,08723365  -51,08569007   SPRF-AP   \n",
       "250887  ...         0       1        2  -25,31758044  -54,15684223   SPRF-PR   \n",
       "250888  ...         0       1        2      -25,3653      -49,0906   SPRF-PR   \n",
       "\n",
       "        delegacia             uop    periodo           datetime  \n",
       "0        DEL05-SP  UOP01-DEL05-SP  madrugada  01-01-2021 05:30   \n",
       "1        DEL01-AM  UOP01-DEL01-AM      manhã  01-01-2021 08:05   \n",
       "2        DEL04-CE  UOP03-DEL04-CE      manhã  01-01-2021 10:10   \n",
       "3        DEL04-RJ  UOP02-DEL04-RJ      tarde  01-01-2021 12:30   \n",
       "4        DEL05-RJ  UOP04-DEL05-RJ      tarde  01-01-2021 02:40   \n",
       "...           ...             ...        ...                ...  \n",
       "250884   DEL01-BA  UOP01-DEL01-BA      tarde  09-27-2024 04:15   \n",
       "250885   DEL04-RJ  UOP01-DEL04-RJ      noite  09-15-2024 08:30   \n",
       "250886   DEL01-AP  UOP01-DEL01-AP      tarde  08-13-2024 04:22   \n",
       "250887   DEL05-PR  UOP01-DEL05-PR      noite  09-21-2024 06:50   \n",
       "250888   DEL01-PR  UOP02-DEL01-PR      noite  09-15-2024 07:00   \n",
       "\n",
       "[250889 rows x 30 columns]"
      ]
     },
     "execution_count": 157,
     "metadata": {},
     "output_type": "execute_result"
    }
   ],
   "source": [
    "dados"
   ]
  },
  {
   "cell_type": "markdown",
   "metadata": {},
   "source": [
    "Persistindo a base de dados processada em ../data/processed"
   ]
  },
  {
   "cell_type": "code",
   "execution_count": 158,
   "metadata": {},
   "outputs": [],
   "source": [
    "dados.to_csv('../data/processed/dados.csv', index=False)\n"
   ]
  }
 ],
 "metadata": {
  "kernelspec": {
   "display_name": "taa",
   "language": "python",
   "name": "python3"
  },
  "language_info": {
   "codemirror_mode": {
    "name": "ipython",
    "version": 3
   },
   "file_extension": ".py",
   "mimetype": "text/x-python",
   "name": "python",
   "nbconvert_exporter": "python",
   "pygments_lexer": "ipython3",
   "version": "3.12.4"
  }
 },
 "nbformat": 4,
 "nbformat_minor": 2
}
