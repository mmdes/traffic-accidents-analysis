{
 "cells": [
  {
   "cell_type": "markdown",
   "metadata": {},
   "source": [
    "# Engenharia de Atributos"
   ]
  },
  {
   "cell_type": "markdown",
   "metadata": {},
   "source": [
    "Importando as dependências"
   ]
  },
  {
   "cell_type": "code",
   "execution_count": 64,
   "metadata": {},
   "outputs": [],
   "source": [
    "import pandas as pd\n",
    "import numpy as np\n",
    "import matplotlib.pyplot as plt\n",
    "import seaborn as sns"
   ]
  },
  {
   "cell_type": "markdown",
   "metadata": {},
   "source": [
    "Lendo os dados brutos e concatenando-os em um único dataframe"
   ]
  },
  {
   "cell_type": "code",
   "execution_count": 65,
   "metadata": {},
   "outputs": [
    {
     "data": {
      "text/plain": [
       "(250889, 30)"
      ]
     },
     "execution_count": 65,
     "metadata": {},
     "output_type": "execute_result"
    }
   ],
   "source": [
    "base_path = '../data/raw/' \n",
    "\n",
    "dados_2021 = pd.read_csv(base_path + '2021.csv', encoding='latin-1', sep=';')\n",
    "dados_2022 = pd.read_csv(base_path + '2022.csv', sep=',')\n",
    "dados_2023 = pd.read_csv(base_path + '2023.csv', encoding='latin-1', sep=';')\n",
    "dados_2024 = pd.read_csv(base_path + '2024.csv', sep=',')\n",
    "\n",
    "dados = pd.concat([dados_2021, dados_2022, dados_2023, dados_2024], axis=0, ignore_index=True)\n",
    "\n",
    "dados.shape"
   ]
  },
  {
   "cell_type": "markdown",
   "metadata": {},
   "source": [
    "Na análise exploratória, foram indentificadas colunas em que haviam dados nulos:"
   ]
  },
  {
   "cell_type": "code",
   "execution_count": 66,
   "metadata": {},
   "outputs": [
    {
     "data": {
      "text/plain": [
       "uop                       219\n",
       "delegacia                  85\n",
       "regional                   23\n",
       "classificacao_acidente      4\n",
       "dtype: int64"
      ]
     },
     "execution_count": 66,
     "metadata": {},
     "output_type": "execute_result"
    }
   ],
   "source": [
    "nulos = dados.isnull().sum().sort_values(ascending=False)\n",
    "nulos[nulos>0]"
   ]
  },
  {
   "cell_type": "markdown",
   "metadata": {},
   "source": [
    "Reconhecendo os dados dessas colunas"
   ]
  },
  {
   "cell_type": "code",
   "execution_count": 67,
   "metadata": {},
   "outputs": [
    {
     "data": {
      "text/plain": [
       "(0    UOP01-DEL05-SP\n",
       " 1    UOP01-DEL01-AM\n",
       " 2    UOP03-DEL04-CE\n",
       " 3    UOP02-DEL04-RJ\n",
       " 4    UOP04-DEL05-RJ\n",
       " Name: uop, dtype: object,\n",
       " 0    DEL05-SP\n",
       " 1    DEL01-AM\n",
       " 2    DEL04-CE\n",
       " 3    DEL04-RJ\n",
       " 4    DEL05-RJ\n",
       " Name: delegacia, dtype: object,\n",
       " 0    SPRF-SP\n",
       " 1    SPRF-AM\n",
       " 2    SPRF-CE\n",
       " 3    SPRF-RJ\n",
       " 4    SPRF-RJ\n",
       " Name: regional, dtype: object,\n",
       " 0    Com Vítimas Feridas\n",
       " 1                    NaN\n",
       " 2    Com Vítimas Feridas\n",
       " 3    Com Vítimas Feridas\n",
       " 4    Com Vítimas Feridas\n",
       " Name: classificacao_acidente, dtype: object)"
      ]
     },
     "execution_count": 67,
     "metadata": {},
     "output_type": "execute_result"
    }
   ],
   "source": [
    "dados['uop'].head(5), dados['delegacia'].head(5), dados['regional'].head(5), dados['classificacao_acidente'].head(5)"
   ]
  },
  {
   "cell_type": "markdown",
   "metadata": {},
   "source": [
    "Substituindo os dados faltantes pela moda das respectivas colunas"
   ]
  },
  {
   "cell_type": "code",
   "execution_count": 68,
   "metadata": {},
   "outputs": [
    {
     "data": {
      "text/plain": [
       "{'uop': 'UOP01-DEL01-SC',\n",
       " 'delegacia': 'DEL01-PR',\n",
       " 'regional': 'SPRF-MG',\n",
       " 'classificacao_acidente': 'Com Vítimas Feridas'}"
      ]
     },
     "execution_count": 68,
     "metadata": {},
     "output_type": "execute_result"
    }
   ],
   "source": [
    "valores = {\n",
    "    'uop': dados['uop'].mode()[0],\n",
    "    'delegacia': dados['delegacia'].mode()[0],\n",
    "    'regional': dados['regional'].mode()[0],\n",
    "    'classificacao_acidente': dados['classificacao_acidente'].mode()[0]\n",
    "}\n",
    "\n",
    "valores"
   ]
  },
  {
   "cell_type": "code",
   "execution_count": 69,
   "metadata": {},
   "outputs": [],
   "source": [
    "dados = dados.fillna(value=valores)"
   ]
  },
  {
   "cell_type": "markdown",
   "metadata": {},
   "source": [
    "Checando se os valores nulos foram realmente preenchidos. Como nenhuma coluna com valor nulo é impressa, não existem mais valores nulos na base."
   ]
  },
  {
   "cell_type": "code",
   "execution_count": 70,
   "metadata": {},
   "outputs": [
    {
     "data": {
      "text/plain": [
       "Series([], dtype: int64)"
      ]
     },
     "execution_count": 70,
     "metadata": {},
     "output_type": "execute_result"
    }
   ],
   "source": [
    "nulos = dados.isnull().sum().sort_values(ascending=False)\n",
    "nulos[nulos>0]\n"
   ]
  },
  {
   "cell_type": "markdown",
   "metadata": {},
   "source": [
    "Tratamento de data/hora, mudando para o formato datetime"
   ]
  }
 ],
 "metadata": {
  "kernelspec": {
   "display_name": "taa",
   "language": "python",
   "name": "python3"
  },
  "language_info": {
   "codemirror_mode": {
    "name": "ipython",
    "version": 3
   },
   "file_extension": ".py",
   "mimetype": "text/x-python",
   "name": "python",
   "nbconvert_exporter": "python",
   "pygments_lexer": "ipython3",
   "version": "3.12.2"
  }
 },
 "nbformat": 4,
 "nbformat_minor": 2
}
